{
 "cells": [
  {
   "cell_type": "markdown",
   "metadata": {},
   "source": [
    "# pH\n",
    "\n",
    "## Kw\n",
    "    H2O + H2O -> OH- + H3O+\n",
    "----\n",
    "         [OH-][H3O+]      [OH-][H3O+]\n",
    "    Kw = ----------    =  -----------  =  [OH-][H3O+] = [OH-][H+]  = 10^-14\n",
    "         [H2O][H2O]            1    \n",
    "\n",
    "## pKs\n",
    "\n",
    "    HA + H2O -> A- + H3O+\n",
    "----\n",
    "         [A-][H3O+]       [A-][H+]\n",
    "    Ks = ----------    =  --------\n",
    "            HA               HA"
   ]
  },
  {
   "cell_type": "code",
   "execution_count": 21,
   "metadata": {},
   "outputs": [
    {
     "name": "stdout",
     "output_type": "stream",
     "text": [
      "Ks: 0.01\n",
      "pKs: 2.0\n"
     ]
    }
   ],
   "source": [
    "# pKs berechnen\n",
    "\n",
    "import numpy as py\n",
    "\n",
    "A = 0.00015           # 0.00015  mol/l\n",
    "HA = 0.00015\n",
    "H = 0.01            # pH =4\n",
    "\n",
    "Ks = A*H/HA\n",
    "pKs = -py.log10(Ks)\n",
    "\n",
    "print('Ks:',Ks)\n",
    "print('pKs:',pKs)"
   ]
  },
  {
   "cell_type": "markdown",
   "metadata": {},
   "source": [
    "## Henderson-Hasselbalch\n",
    "\n",
    "         [A-][H3O+]              [A-]\n",
    "    Ks = ----------    =  [H+] * ----              | überall -log\n",
    "            [HA]                 [HA]\n",
    "----\n",
    "                                       [A-]\n",
    "    pKs =              =   pH   - log( ---- )\n",
    "                                       [HA]\n",
    "----\n",
    "                                       [A-]\n",
    "    pH  =              =   pKs  + log( ---- )\n",
    "                                       [HA]\n"
   ]
  },
  {
   "cell_type": "code",
   "execution_count": null,
   "metadata": {
    "collapsed": true
   },
   "outputs": [],
   "source": []
  }
 ],
 "metadata": {
  "kernelspec": {
   "display_name": "Python 3",
   "language": "python",
   "name": "python3"
  },
  "language_info": {
   "codemirror_mode": {
    "name": "ipython",
    "version": 3
   },
   "file_extension": ".py",
   "mimetype": "text/x-python",
   "name": "python",
   "nbconvert_exporter": "python",
   "pygments_lexer": "ipython3",
   "version": "3.6.1"
  }
 },
 "nbformat": 4,
 "nbformat_minor": 2
}
